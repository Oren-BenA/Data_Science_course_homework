{
 "cells": [
  {
   "cell_type": "code",
   "execution_count": null,
   "metadata": {},
   "outputs": [],
   "source": [
    "########################################################################################################\n",
    "# This assignment was part of NAYA's college 'Practical Data Science course' (07-2023) I am attending\n",
    "# Any use of this code or source files requires explicit approval from the owner of this account\n",
    "######################################################################################################\n",
    "\n",
    "# the code below loads diamonds features and prices and uses it to practice first model creation and\n",
    "# use it to predict model's price\n",
    "# the last piece of code (Q9) tests which feature combination create the best model"
   ]
  },
  {
   "cell_type": "code",
   "execution_count": 1,
   "metadata": {
    "tags": []
   },
   "outputs": [],
   "source": [
    "# !pip install scikit-learn"
   ]
  },
  {
   "cell_type": "code",
   "execution_count": 2,
   "metadata": {
    "id": "jLBD9hNv1VPw",
    "tags": []
   },
   "outputs": [],
   "source": [
    "# General tools\n",
    "import pandas as pd\n",
    "import numpy as np\n",
    "import matplotlib.pyplot as plt\n",
    "import seaborn as sns\n",
    "\n",
    "# For validation\n",
    "from sklearn.model_selection import train_test_split\n",
    "\n",
    "# For curve fitting\n",
    "from scipy.optimize import curve_fit\n",
    "\n",
    "def csv_drive_path_generatoer(url:str):\n",
    " '''\n",
    " Help in read csv file directly from google drive.\n",
    " Make sure the csv format is standard.\n",
    " url:str - path to csv file example:\n",
    "   url = 'https://drive.google.com/file/d/126JPZ3lYwdLyJ2d_7jxM9jMtZaOlF-Ld/view?usp=sharing'\n",
    " return : str\n",
    " '''\n",
    " path = 'https://drive.google.com/uc?export=download&id='+url.split('/')[-2]\n",
    " return path"
   ]
  },
  {
   "cell_type": "code",
   "execution_count": 3,
   "metadata": {
    "id": "GwD_U8I7C_2G"
   },
   "outputs": [],
   "source": [
    "path = csv_drive_path_generatoer(url = 'https://drive.google.com/file/d/1eqpYc1U1IrJDy5Qai-YJpSUueb8tbOl0/view?usp=sharing')\n",
    "\n",
    "diamonds = pd.read_csv(filepath_or_buffer=path, index_col='#')\n",
    "diamonds.head()\n",
    "\n",
    "# some EDA\n",
    "# omitting diamonds where the size of one of the dimensions is zero\n",
    "diamonds = diamonds.loc[diamonds.x * diamonds.y * diamonds.z != 0]\n",
    "\n",
    "# omitting non-round diamonds\n",
    "diamonds = diamonds.loc[(diamonds.x - diamonds.y).abs() < 0.1]\n",
    "\n",
    "# splitting the data to X (df containing the potential predicting features) \n",
    "# and y, a series containing real prices, which is the predicted variable here (diamonds price)\n",
    "X = diamonds.drop(columns = 'price')\n",
    "y = diamonds.price\n",
    "\n"
   ]
  },
  {
   "cell_type": "code",
   "execution_count": 4,
   "metadata": {
    "id": "MVvBh7ZoqVml"
   },
   "outputs": [],
   "source": [
    "# Your turn, Write your own algorithm!:\n",
    "# *** First run it all with the simplest model you find, then make it more complex (adding features, complicated calculations etc' ... )\n",
    "# 1. Implemnet logic for model training within the function \"train_model\"\n",
    "# 2. Implement predict process  within the function \"predict\"\n",
    "# 3. Split the data to train and test\n",
    "# 4. Create model using the train set only\n",
    "# 5. Generate prediction on the test sets only\n",
    "# 6. Choos scoring/loss function and evaluate the results\n",
    "# 7. Compare the results with the above notebook model\n",
    "# 8. Plot your model (if possible), is it diffferent from the plot above ?\n",
    "# 9. Try to improve your model.\n"
   ]
  },
  {
   "cell_type": "code",
   "execution_count": 5,
   "metadata": {
    "id": "SMc5Vz1kgPIs"
   },
   "outputs": [],
   "source": [
    "# define rmsle model evaluation method\n",
    "def rmsle(y_true: pd.Series, y_pred:pd.Series):\n",
    "    return (((np.log1p(y_true)-np.log1p(y_pred))**2).mean())**0.5"
   ]
  },
  {
   "cell_type": "code",
   "execution_count": 6,
   "metadata": {
    "id": "o_zf7_yT-oBO"
   },
   "outputs": [],
   "source": [
    "# Q1 - Train model function\n",
    "def train_model(X,y):\n",
    "  model = y.groupby([X.carat]).mean().round(1)\n",
    "  return model\n",
    "\n",
    "model = train_model(X,y)"
   ]
  },
  {
   "cell_type": "code",
   "execution_count": 7,
   "metadata": {
    "id": "1ZnQ-qrI-n87"
   },
   "outputs": [],
   "source": [
    "# Q2 - Implement predict process  within the function \"predict\"\n",
    "def predict(model,X):\n",
    "  y_pred = X.carat.map(model)\n",
    "  return y_pred\n",
    "\n",
    "y_pred = predict(model,X)"
   ]
  },
  {
   "cell_type": "code",
   "execution_count": 8,
   "metadata": {
    "id": "vH952sr0-n4g"
   },
   "outputs": [],
   "source": [
    "# Q3 - split the data to train and test\n",
    "\n",
    "X_train, X_test, y_train, y_test = train_test_split(X,y, train_size = 0.7, test_size = 0.3,  random_state=142857)"
   ]
  },
  {
   "cell_type": "code",
   "execution_count": 9,
   "metadata": {
    "id": "uPRdhY7o-nx9"
   },
   "outputs": [],
   "source": [
    "# Q4 - Create model using the train dataset only\n",
    "train_set_model = train_model(X_train,y_train)"
   ]
  },
  {
   "cell_type": "code",
   "execution_count": 10,
   "metadata": {
    "id": "2rN5B0mw-niW"
   },
   "outputs": [],
   "source": [
    "# Q5 - Generate prediction on the test sets only\n",
    "\n",
    "test_set_model = train_model(X_test,y_test)\n",
    "\n",
    "# generate prediction using all data\n",
    "\n",
    "all_model = train_model(X,y)\n",
    "\n",
    "# generate prediction based on train data only\n",
    "train_set_model = train_model(X_train,y_train)\n",
    "\n",
    "# predict y based on all data\n",
    "all_y_pred = X.carat.map(all_model)\n",
    "\n",
    "# predict y based on train data\n",
    "train_y_pred = X_train.carat.map(train_set_model)\n",
    "\n",
    "# predict y based on test data\n",
    "test_y_pred = X_test.carat.map(test_set_model)"
   ]
  },
  {
   "cell_type": "code",
   "execution_count": 11,
   "metadata": {
    "colab": {
     "base_uri": "https://localhost:8080/"
    },
    "id": "MjhfSzqc-m1G",
    "outputId": "a98781aa-6e67-4f02-fe6a-ff5647c39f81"
   },
   "outputs": [
    {
     "name": "stdout",
     "output_type": "stream",
     "text": [
      "rmsle_all = 0.248766, rmsle_train = 0.248024, rmsle_test = 0.248879\n"
     ]
    }
   ],
   "source": [
    "# Q6 - Choose scoring/loss function and evaluate the results\n",
    "# use rmsle to compare prediction's error/distance from real values\n",
    "\n",
    "def rmsle(y_true: pd.Series, y_pred:pd.Series):\n",
    "    return (((np.log1p(y_true)-np.log1p(y_pred))**2).mean())**0.5\n",
    "\n",
    "# calc rmsle of prediction calculated based on all data\n",
    "rmsle_all = rmsle(y,all_y_pred).round(6)\n",
    "\n",
    "# calc rmsle of prediction calculated based on train data\n",
    "rmsle_train = rmsle(y_train,train_y_pred).round(6)\n",
    "\n",
    "# calc rmsle of prediction calculated based on test data\n",
    "rmsle_test = rmsle(y_test,test_y_pred).round(6)\n",
    "\n",
    "print(f'rmsle_all = {rmsle_all}, rmsle_train = {rmsle_train}, rmsle_test = {rmsle_test}')"
   ]
  },
  {
   "cell_type": "code",
   "execution_count": 12,
   "metadata": {
    "id": "ecgUCt4sMG6b"
   },
   "outputs": [
    {
     "data": {
      "text/plain": [
       "<Axes: xlabel='carat'>"
      ]
     },
     "execution_count": 12,
     "metadata": {},
     "output_type": "execute_result"
    },
    {
     "data": {
      "image/png": "[encoded data removed]",
      "text/plain": [
       "<Figure size 640x480 with 1 Axes>"
      ]
     },
     "metadata": {},
     "output_type": "display_data"
    }
   ],
   "source": [
    "# Q8 - plot your model\n",
    "train_set_model.plot()"
   ]
  },
  {
   "cell_type": "code",
   "execution_count": 13,
   "metadata": {
    "colab": {
     "base_uri": "https://localhost:8080/"
    },
    "id": "Hiej5sHBMGzR",
    "outputId": "4c0fedae-59ba-4456-e06d-030625f9f82f",
    "tags": []
   },
   "outputs": [
    {
     "name": "stdout",
     "output_type": "stream",
     "text": [
      "per test data, model's rmsle based on ['carat'] is: 0.251\n",
      "per test data, model's rmsle based on ['carat', 'cut'] is: 0.243\n",
      "per test data, model's rmsle based on ['carat', 'cut', 'color'] is: 0.217\n",
      "per test data, model's rmsle based on ['carat', 'cut', 'color', 'clarity'] is: 0.109\n",
      "per test data, model's rmsle based on ['carat', 'cut', 'color', 'clarity', 'depth'] is: 0.14\n"
     ]
    }
   ],
   "source": [
    "# Q9 - improve your model\n",
    "# This code iterates through list of diamonds features chosen (from total 1 to total 5 features)\n",
    "# for each feature selection, it creates a groupby object and grouped by group number (series), \n",
    "# a model and a y (diamonds price) prediction\n",
    "# the rmsle between actual and predicted prices is printed each iteration \n",
    "# to identify the best model and minimal rmsle;\n",
    "\n",
    "def train_model2(X,y):\n",
    "  X=X.join(y)\n",
    "  model2 = X.groupby('group_name')[y.name].mean()\n",
    "  return model2\n",
    "\n",
    "def predict2(X,model2):\n",
    "  y_pred2 = X.group_name.map(model2)\n",
    "  return y_pred2\n",
    "\n",
    "for i in range(1,len(X.columns[:5].values)+1):\n",
    "  # itterate over tested feature combinations\n",
    "  features = list(X.columns[:i].values)\n",
    "\n",
    "  # create an X Series grouped by chosen features; each unique feature combination is group-numbered\n",
    "  X['group_name'] = X.groupby(features).ngroup()\n",
    "\n",
    "  # split the datasets to train and test\n",
    "  X_train, X_test, y_train, y_test = train_test_split(X, y, test_size=0.33, random_state=42)\n",
    "\n",
    "  # create a model per selected features using train data\n",
    "  model2 = train_model2(X_train,y_train)\n",
    "\n",
    "  # predict y (price) per X_test and model2\n",
    "  y_pred2 = predict2(X_test, model2)\n",
    "\n",
    "  # calc & print model's rmsle\n",
    "  rmsle2 = rmsle(y_test,y_pred2)\n",
    "  print(f\"per test data, model's rmsle based on {features} is: {rmsle2.round(3)}\")"
   ]
  }
 ],
 "metadata": {
  "colab": {
   "provenance": []
  },
  "kernelspec": {
   "display_name": "Python 3 (ipykernel)",
   "language": "python",
   "name": "python3"
  },
  "language_info": {
   "codemirror_mode": {
    "name": "ipython",
    "version": 3
   },
   "file_extension": ".py",
   "mimetype": "text/x-python",
   "name": "python",
   "nbconvert_exporter": "python",
   "pygments_lexer": "ipython3",
   "version": "3.11.3"
  }
 },
 "nbformat": 4,
 "nbformat_minor": 4
}
