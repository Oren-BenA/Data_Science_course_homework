{
 "cells": [
  {
   "cell_type": "code",
   "execution_count": 18,
   "id": "e7dc3347-6a00-4cd5-b3fd-e7ce03f879c7",
   "metadata": {
    "tags": []
   },
   "outputs": [
    {
     "name": "stdout",
     "output_type": "stream",
     "text": [
      "1.0 1110.0\n"
     ]
    }
   ],
   "source": [
    "# This code calculates the number of games required to find one champion out of n players\n",
    "# The winner continues, the loser goes home\n",
    "#\n",
    "\n",
    "n_players = 1111\n",
    "n_games = 0\n",
    "\n",
    "while n_players > 1:\n",
    "    n_games += (n_players)//2\n",
    "    if n_players % 2 == 0:\n",
    "        n_players = n_players/2\n",
    "    else:\n",
    "        n_players = (n_players-1)/2 + 1\n",
    "       \n",
    "print(n_players, n_games)"
   ]
  }
 ],
 "metadata": {
  "kernelspec": {
   "display_name": "Python 3 (ipykernel)",
   "language": "python",
   "name": "python3"
  },
  "language_info": {
   "codemirror_mode": {
    "name": "ipython",
    "version": 3
   },
   "file_extension": ".py",
   "mimetype": "text/x-python",
   "name": "python",
   "nbconvert_exporter": "python",
   "pygments_lexer": "ipython3",
   "version": "3.11.3"
  }
 },
 "nbformat": 4,
 "nbformat_minor": 5
}
